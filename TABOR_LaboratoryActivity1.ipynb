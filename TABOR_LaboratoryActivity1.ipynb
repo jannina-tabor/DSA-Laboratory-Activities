{
 "cells": [
  {
   "cell_type": "markdown",
   "metadata": {},
   "source": [
    "# TABOR, JANNINA ALEXA I.\n",
    "**DSA Activity 1**\n"
   ]
  },
  {
   "cell_type": "markdown",
   "metadata": {},
   "source": [
    "**Exercise 1: Temperature Converter**\n",
    "\n",
    "Create a program that converts temperatures between Celsius and Fahrenheit.\n",
    "\n",
    "*Instructions:*\n",
    "1.\tAsk the user to input a temperature.\n",
    "2.\tAsk the user to select the conversion type: from Celsius to Fahrenheit or from Fahrenheit to Celsius.\n",
    "3.\tPerform the appropriate conversion and print the result.\n"
   ]
  },
  {
   "cell_type": "code",
   "execution_count": 3,
   "metadata": {},
   "outputs": [
    {
     "name": "stdout",
     "output_type": "stream",
     "text": [
      "What kind of conversion do you want?\n",
      "C. Fahrenheit (°F) to Celsuis (°C)\n",
      "F. Celsuis (°C) to Fahrenheit (°F) \n",
      "The temperature 20.0 °C is equivalent to 68.00 °F.\n"
     ]
    }
   ],
   "source": [
    "def celsius_to_fahrenheit (celsius):                                                                         # Define functions of the formula for each conversion\n",
    "    return (celsius * 9/5) + 32\n",
    "\n",
    "def fahrenheit_to_celsius (fahrenheit):\n",
    "    return (fahrenheit - 32) * 5/9\n",
    "\n",
    "while True:\n",
    "    try: \n",
    "        temperature = float(input(\"Please enter the temperature you want to convert: \"))                       # Getting the user's input of temperature to convert\n",
    "        break\n",
    "    except ValueError:                                                                                         # Turns to loop if the user's input is invalid\n",
    "        print (\"Invalid input. Please enter a valid number for the temperature.\")\n",
    "       \n",
    "while True:                                                                                                    # User's selection of temperature conversion type in a loop\n",
    "    print (\"What kind of conversion do you want?\")\n",
    "    print (\"C. Fahrenheit (°F) to Celsuis (°C)\")\n",
    "    print (\"F. Celsuis (°C) to Fahrenheit (°F) \")\n",
    "    \n",
    "    conversion_type = str(input(\"Please choose C or F: \")).lower()                                                 # Getting the user's choice of conversion whether it be uppercase or lowercase\n",
    "\n",
    "    if conversion_type == 'c':                                                                                  # Farenheit to Celsius conversion\n",
    "        converted_temperature = fahrenheit_to_celsius (temperature) \n",
    "        print (f\"The temperature {temperature} °F is equivalent to {converted_temperature:.2f} °C.\")\n",
    "        break\n",
    "  \n",
    "    elif conversion_type == 'f':                                                                                # Celsius to Farenehit conversion     \n",
    "        converted_temperature = celsius_to_fahrenheit (temperature)\n",
    "        print (f\"The temperature {temperature} °C is equivalent to {converted_temperature:.2f} °F.\")\n",
    "        break\n",
    "\n",
    "    else:\n",
    "        print (\"Please try again. Choose either C or F.\")"
   ]
  },
  {
   "cell_type": "markdown",
   "metadata": {},
   "source": [
    "**Exercise 2: Ohm’s Law Calculator**\n",
    "\n",
    "*Instructions:*\n",
    "\n",
    "1.\tAsk the user what they want to calculate: Voltage, Current, or Resistance.\n",
    "2.\tBased on their choice, prompt the user to input the appropriate values.\n",
    "3.\tUse Ohm's Law to calculate the missing variable and display the result.\n",
    "4.\tHandle cases where division by zero might occur.\n"
   ]
  },
  {
   "cell_type": "code",
   "execution_count": 5,
   "metadata": {},
   "outputs": [
    {
     "name": "stdout",
     "output_type": "stream",
     "text": [
      "\n",
      "Hello! Welcome to Ohm's Law Calculator!\n",
      "What do you want to calculate? Please select from the options below.\n",
      "1. Voltage (V)\n",
      "2. Current (I)\n",
      "3. Resistance (R)\n",
      "4. Exit the calculator\n",
      "The Resistance is 0.15 Ohms.\n",
      "\n",
      "Hello! Welcome to Ohm's Law Calculator!\n",
      "What do you want to calculate? Please select from the options below.\n",
      "1. Voltage (V)\n",
      "2. Current (I)\n",
      "3. Resistance (R)\n",
      "4. Exit the calculator\n",
      "The Current is -1.48 Amperes.\n",
      "So sad to see you go. Thank you for using the ohm's law calculator!\n"
     ]
    }
   ],
   "source": [
    "def voltage_calculation (current, resistance):                                          # Define the functions for the formulas of Ohm's Law \n",
    "    return current * resistance\n",
    "\n",
    "def current_calculation (voltage, resistance):\n",
    "    return voltage / resistance\n",
    "\n",
    "def resistance_calculation (voltage, current):\n",
    "    return voltage / current\n",
    "\n",
    "def user_input(prompt):                                                                 # Getting the user's input for the calculations\n",
    "    while True:\n",
    "        try:\n",
    "            value = float(input(prompt))\n",
    "            return value \n",
    "        except ValueError:\n",
    "            print(\"You have entered an invalid number. Please try again.\")\n",
    "\n",
    "def ohms_law_calculator():                                                              # Main Program in loop\n",
    "    while True:\n",
    "        print (\"\\nHello! Welcome to Ohm's Law Calculator!\")\n",
    "        print (\"What do you want to calculate? Please select from the options below.\")\n",
    "        print (\"1. Voltage (V)\")\n",
    "        print (\"2. Current (I)\")\n",
    "        print (\"3. Resistance (R)\")\n",
    "        print (\"4. Exit the calculator\")\n",
    "\n",
    "        option = input(\"Select 1, 2, 3, or 4: \")                                        # Getting the selected option from the user\n",
    "\n",
    "        if option == '4':\n",
    "            print (\"So sad to see you go. Thank you for using the ohm's law calculator!\")\n",
    "            break\n",
    "\n",
    "        if option == \"1\":                                                               # Voltage Calculation\n",
    "            current = user_input (\"Enter the value of current (I) in Amperes: \")\n",
    "            resistance = user_input (\"Enter the value of resistance (R) in Ohms: \")\n",
    "            voltage = voltage_calculation (current, resistance)\n",
    "            print (f\"The Voltage is {voltage:.2f} Volts.\")                              # The output will be displayed with 2 decimal places only\n",
    "\n",
    "        elif option == \"2\":                                                             # Current Calculation\n",
    "            voltage = user_input (\"Enter the value of voltage (V) in Volts: \")\n",
    "            resistance = user_input (\"Enter the value of the resistance (R) in Ohms: \")\n",
    "            if resistance == 0:                                                         # Cannot divide by zero\n",
    "                print (\"Resistance cannot be zero. Please enter a non-zero value for resistance.\")\n",
    "                continue \n",
    "            current = current_calculation (voltage, resistance)\n",
    "            print (f\"The Current is {current:.2f} Amperes.\")\n",
    "\n",
    "        elif option == \"3\":                                                             # Resistance Calculation\n",
    "            voltage = user_input (\"Enter the value of voltage (V) in Volts: \")\n",
    "            current = user_input (\"Enter the value of current (I) in Amperes: \")\n",
    "            if current == 0:                                                            # Cannot divide by zero\n",
    "                print (\"Current cannot be zero. Please enter a non-zero value for current.\")\n",
    "                continue\n",
    "            resistance = resistance_calculation (voltage, current)\n",
    "            print (f\"The Resistance is {resistance:.2f} Ohms.\")\n",
    "            \n",
    "        else:\n",
    "            print(\"Error! Please try selecting 1, 2, 3, or 4.\")                         \n",
    "\n",
    "        repeat = input (\"Hi there! Do you want to calculate again? (yes/no)\").lower()      # Asking the user if they want to try again instead of going back to the main loop\n",
    "        if repeat not in ['yes', 'y']:\n",
    "            print (\"So sad to see you go. Thank you for using the ohm's law calculator!\")\n",
    "            break\n",
    "\n",
    "ohms_law_calculator()                                                                   # Function that triggers the start of the program\n"
   ]
  },
  {
   "cell_type": "markdown",
   "metadata": {},
   "source": [
    "**Exercise 3:  Diamond Shape (advance topic):**\n",
    "\n",
    "Write a Python function named print_diamond that takes an odd integer n as an argument and prints a diamond shape with a width of n using the * character.\n",
    "\n",
    "*Note: If an even number is passed, the function should return \"Please provide an odd integer.\"*\n"
   ]
  },
  {
   "cell_type": "code",
   "execution_count": 9,
   "metadata": {},
   "outputs": [
    {
     "name": "stdout",
     "output_type": "stream",
     "text": [
      "Please provide an odd integer.\n",
      "Please provide an odd integer.\n",
      "Please provide an odd integer.\n",
      "Please provide an odd integer.\n",
      "Please provide an odd integer.\n",
      " *\n",
      "***\n",
      " *\n"
     ]
    }
   ],
   "source": [
    "def print_diamond(n):                                                           # defines the function of the parameters for this program\n",
    "    if n % 2 == 0:                                                              # check is the entered value is an even integer\n",
    "        return (\"Please provide an odd integer.\")   \n",
    "    \n",
    "    for i in range (n // 2 + 1):                                                # upper part of the diamond\n",
    "        print (\" \" * (n // 2 - i) + \"*\" * (2 * i + 1))\n",
    "\n",
    "    for i in range (n // 2 -1, -1, -1):                                         # lower part of the diamond\n",
    "        print (\" \" * (n // 2 - i) + \"*\" * (2 * i + 1))    \n",
    "        \n",
    "def diamond():                                                                  # Main program in loop\n",
    "    while True:\n",
    "        try:\n",
    "            n = int(input(\"Please enter any odd integer: \"))\n",
    "            if n % 2 == 0:                                                                  \n",
    "                print (\"Please provide an odd integer.\")\n",
    "            elif n <= 0:\n",
    "                print (\"Please provide an odd integer.\")\n",
    "            else:\n",
    "                print_diamond(n)\n",
    "                break                                                            # stops the loop once executed.\n",
    "        except ValueError:\n",
    "            print (\"Please provide an odd integer.\")\n",
    "        \n",
    "diamond()                                                                        # triggers the start of the loop"
   ]
  }
 ],
 "metadata": {
  "kernelspec": {
   "display_name": "Python 3",
   "language": "python",
   "name": "python3"
  },
  "language_info": {
   "codemirror_mode": {
    "name": "ipython",
    "version": 3
   },
   "file_extension": ".py",
   "mimetype": "text/x-python",
   "name": "python",
   "nbconvert_exporter": "python",
   "pygments_lexer": "ipython3",
   "version": "3.11.9"
  }
 },
 "nbformat": 4,
 "nbformat_minor": 2
}
