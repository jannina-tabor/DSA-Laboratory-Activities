{
 "cells": [
  {
   "cell_type": "markdown",
   "metadata": {},
   "source": [
    "# TABOR, JANNINA ALEXA I.\n",
    "**DSA Activity 1**\n"
   ]
  },
  {
   "cell_type": "markdown",
   "metadata": {},
   "source": [
    "**Exercise 1: Temperature Converter**\n",
    "\n",
    "Create a program that converts temperatures between Celsius and Fahrenheit.\n",
    "\n",
    "*Instructions:*\n",
    "1.\tAsk the user to input a temperature.\n",
    "2.\tAsk the user to select the conversion type: from Celsius to Fahrenheit or from Fahrenheit to Celsius.\n",
    "3.\tPerform the appropriate conversion and print the result.\n"
   ]
  },
  {
   "cell_type": "code",
   "execution_count": null,
   "metadata": {},
   "outputs": [],
   "source": [
    "def celsius_to_farenheit (celsius):                                                                         # Define functions of the formula for each conversion\n",
    "    return (celsius * 9/5) + 32\n",
    "\n",
    "def farenheit_to_celsius (farenheit):\n",
    "    return (farenheit - 32) * 5/9\n",
    "\n",
    "while True:\n",
    "\n",
    "    try: \n",
    "        temperature = float(input(\"Please enter the temperature you want to convert.\"))                       # Getting the user's input of temperature to convert\n",
    "        break\n",
    "    except ValueError:                                                                                         # Turns to loop if the user's input is invalid\n",
    "        print (\"Invalid input. Please enter a valid number for the temperature.\")\n",
    "       \n",
    "while True:                                                                                                    # User's selection of temperature conversion type in a loop\n",
    "    print (\"What kind of conversion do you want?\")\n",
    "    print (\"C. Farenheit (°F) to Celsuis (°C)\")\n",
    "    print (\"F. Celsuis (°C) to Farenheit (°F) \")\n",
    "    \n",
    "    conversion_type = str(input(\"Please choose C or F\")).lower()                                                 # Getting the user's choice of conversion whether it be uppercase or lowercase\n",
    "\n",
    "    if conversion_type == 'c':                                                                                  # Farenheit to Celsius conversion\n",
    "        converted_temperature = farenheit_to_celsius (temperature) \n",
    "        print (f\"The temperature {temperature} °F is equivalent to {converted_temperature:.2f} °C.\")\n",
    "        break\n",
    "  \n",
    "    elif conversion_type == 'f':                                                                                # Celsius to Farenehit conversion     \n",
    "        converted_temperature = celsius_to_farenheit (temperature)\n",
    "        print (f\"The temperature {temperature} °C is equivalent to {converted_temperature:.2f} °F.\")\n",
    "        break\n",
    "\n",
    "    else:\n",
    "        print (\"Please try again. Choose either C or F.\")"
   ]
  },
  {
   "cell_type": "markdown",
   "metadata": {},
   "source": [
    "**Exercise 2: Ohm’s Law Calculator**\n",
    "\n",
    "*Instructions:*\n",
    "\n",
    "1.\tAsk the user what they want to calculate: Voltage, Current, or Resistance.\n",
    "2.\tBased on their choice, prompt the user to input the appropriate values.\n",
    "3.\tUse Ohm's Law to calculate the missing variable and display the result.\n",
    "4.\tHandle cases where division by zero might occur.\n"
   ]
  },
  {
   "cell_type": "code",
   "execution_count": null,
   "metadata": {},
   "outputs": [],
   "source": []
  }
 ],
 "metadata": {
  "kernelspec": {
   "display_name": "Python 3",
   "language": "python",
   "name": "python3"
  },
  "language_info": {
   "codemirror_mode": {
    "name": "ipython",
    "version": 3
   },
   "file_extension": ".py",
   "mimetype": "text/x-python",
   "name": "python",
   "nbconvert_exporter": "python",
   "pygments_lexer": "ipython3",
   "version": "3.11.9"
  }
 },
 "nbformat": 4,
 "nbformat_minor": 2
}
