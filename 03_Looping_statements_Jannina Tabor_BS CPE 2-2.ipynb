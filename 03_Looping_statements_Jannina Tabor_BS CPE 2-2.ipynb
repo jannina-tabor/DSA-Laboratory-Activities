{
 "cells": [
  {
   "cell_type": "markdown",
   "metadata": {},
   "source": [
    "### Data Structures and Algorithms ###\n",
    "\n",
    "**Laboratory 2 Exercise**\n",
    "\n",
    "*TABOR, JANNINA ALEXA I.*\n",
    "| *BS CPE 2-2*\n"
   ]
  },
  {
   "cell_type": "markdown",
   "metadata": {},
   "source": [
    "**Lab 2 Exercise 1**\n",
    "\n",
    "A teacher named Mrs. Rivera who loved making math fun for her students. One day, a student named Mia asked how to calculate powers, like (2^7). Mrs. Rivera explained, “Imagine you need to multiply 2 by itself seven times. We can solve this using a python code utilizing  special method called recursion to solve this,” \n",
    "\n",
    "*Can you help the class of Mrs. Rivera by providing the recursive method to calculate powers?*\n"
   ]
  },
  {
   "cell_type": "code",
   "execution_count": 5,
   "metadata": {},
   "outputs": [
    {
     "name": "stdout",
     "output_type": "stream",
     "text": [
      "The calculation of 2^7 is 128.\n"
     ]
    }
   ],
   "source": [
    "# Asks the user to input their base and exponent\n",
    "base = int(input(\"What's your base?\"))\n",
    "exponent = int(input(\"And your exponent?\"))\n",
    "\n",
    "def power (base, exponent):\n",
    "    if exponent == 0:   # If exponent is zero, the recursion stops and returns to 1 since any number raised to 0 is 1\n",
    "        return 1\n",
    "    else:\n",
    "        return base * power (base, exponent -1)    # multiplies base by the result of the power calculation with the exponent decreased by 1\n",
    "\n",
    "result = power (base, exponent)     # calls the power function and does the recursive calculation\n",
    "\n",
    "print (f\"The calculation of {base}^{exponent} is {result}.\")"
   ]
  },
  {
   "cell_type": "markdown",
   "metadata": {},
   "source": [
    "**Lab 2 Exercise 1**\n",
    "\n",
    "*Compute the cube of integers*\n",
    "\n",
    "Steps:\n",
    "1. Input the size of the array.\n",
    "2. input the elements of the array\n",
    "3. display the cube of each element \n",
    "\n",
    "Sample output\n",
    "\n",
    "Enter the size of the array : 3\n",
    "Enter the elements separated by space: 3 10 20\n",
    "\n",
    "27\n",
    "\n",
    "1000\n",
    "\n",
    "8000"
   ]
  },
  {
   "cell_type": "code",
   "execution_count": 13,
   "metadata": {},
   "outputs": [
    {
     "name": "stdout",
     "output_type": "stream",
     "text": [
      "\n",
      "The cubes of your elements are: \n",
      "27\n",
      "1000\n",
      "8000\n"
     ]
    }
   ],
   "source": [
    "array_size = int(input(\"Hello there! Enter the size of the array: \"))\n",
    "\n",
    "user_elements = (input(f\"Please enter the elements in your '{array_size}' array size. Please separate by space: \"))\n",
    "\n",
    "elements = user_elements.split()    # Splits the input into a list of strings\n",
    "for i in range(len(elements)):\n",
    "    elements [i] = int(elements[i])     # Converts the string into integer\n",
    "\n",
    "print (\"\\nThe cubes of your elements are: \")\n",
    "for element in elements:\n",
    "    cube = element ** 3     # Cube calculation\n",
    "    print (cube)\n"
   ]
  },
  {
   "cell_type": "markdown",
   "metadata": {},
   "source": [
    "**Lab 2 Exercise 3**\n",
    "\n",
    "Generate a *hollow square* based on the + integer input side length n."
   ]
  },
  {
   "cell_type": "raw",
   "metadata": {
    "vscode": {
     "languageId": "raw"
    }
   },
   "source": [
    "Sample output\n",
    "\n",
    "Enter the side length of the square: 6\n",
    "xxxxxx\n",
    "x    x\n",
    "x    x\n",
    "x    x\n",
    "x    x\n",
    "xxxxxx"
   ]
  },
  {
   "cell_type": "code",
   "execution_count": 19,
   "metadata": {},
   "outputs": [
    {
     "name": "stdout",
     "output_type": "stream",
     "text": [
      "Hi there! Welcome to hollow square generator.\n",
      "xxxxxx\n",
      "x    x\n",
      "x    x\n",
      "x    x\n",
      "x    x\n",
      "xxxxxx\n"
     ]
    }
   ],
   "source": [
    "print (\"Hi there! Welcome to hollow square generator.\")\n",
    "\n",
    "n = int(input(\"Enter the side length of the square: \"))\n",
    "\n",
    "for i in range (n):\n",
    "    if i == 0 or i == n-1:\n",
    "        print ('x' * n)\n",
    "    else:\n",
    "        print ('x' + ' ' * (n-2) + 'x')"
   ]
  },
  {
   "cell_type": "markdown",
   "metadata": {},
   "source": [
    "**Lab Exercise 4**\n",
    "\n",
    "*Generate an inverted right triangle of height n.*"
   ]
  },
  {
   "cell_type": "raw",
   "metadata": {
    "vscode": {
     "languageId": "raw"
    }
   },
   "source": [
    "Sample output\n",
    "\n",
    "Enter the height of the triangle: 6\n",
    "******\n",
    "*****\n",
    "****\n",
    "***\n",
    "**\n",
    "*"
   ]
  },
  {
   "cell_type": "code",
   "execution_count": 22,
   "metadata": {},
   "outputs": [
    {
     "name": "stdout",
     "output_type": "stream",
     "text": [
      "Generate inverted triangle with me.\n",
      "\n"
     ]
    },
    {
     "name": "stdout",
     "output_type": "stream",
     "text": [
      "******\n",
      "*****\n",
      "****\n",
      "***\n",
      "**\n",
      "*\n"
     ]
    }
   ],
   "source": [
    "print (\"Generate inverted triangle with me.\\n\")\n",
    "\n",
    "n = int(input(\"Enter the height of the inverted triange: \"))\n",
    "\n",
    "for i in range (n, 0, -1):      # starts from n down to 1 (stops before it turn 0)\n",
    "    print ('*' * i)             # print the stars in each row"
   ]
  }
 ],
 "metadata": {
  "kernelspec": {
   "display_name": "Python 3",
   "language": "python",
   "name": "python3"
  },
  "language_info": {
   "codemirror_mode": {
    "name": "ipython",
    "version": 3
   },
   "file_extension": ".py",
   "mimetype": "text/x-python",
   "name": "python",
   "nbconvert_exporter": "python",
   "pygments_lexer": "ipython3",
   "version": "3.11.9"
  }
 },
 "nbformat": 4,
 "nbformat_minor": 2
}
