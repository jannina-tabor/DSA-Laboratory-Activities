{
 "cells": [
  {
   "cell_type": "markdown",
   "metadata": {},
   "source": [
    "# DSA Lab Activity 3\n",
    "\n",
    "**Tabor, Jannina Alexa I.**\n",
    "\n",
    "*BS CPE 2-2*\n"
   ]
  },
  {
   "cell_type": "markdown",
   "metadata": {},
   "source": [
    "**Lab Exercise 1**\n",
    "\n",
    "from a given list of integers, create a new list using comprehension that will compute the square of odd integer elements.\n",
    "\n",
    "sample calls\n",
    "\n"
   ]
  },
  {
   "cell_type": "raw",
   "metadata": {},
   "source": [
    "[2,4,3] == [9]\n",
    "[0,0,1,1] == [1,1]"
   ]
  },
  {
   "cell_type": "code",
   "execution_count": 8,
   "metadata": {},
   "outputs": [
    {
     "name": "stdout",
     "output_type": "stream",
     "text": [
      "[9]\n",
      "[1, 1]\n"
     ]
    }
   ],
   "source": [
    "integer1 = [2, 4, 3]\n",
    "integer2 = [0, 0, 1, 1]\n",
    "\n",
    "square_odd1 = [x**2 for x in integer1 if x % 2 != 0 ]\n",
    "square_odd2 = [x**2 for x in integer2 if x % 2 != 0 ]\n",
    "\n",
    "print(square_odd1)\n",
    "print(square_odd2)"
   ]
  }
 ],
 "metadata": {
  "kernelspec": {
   "display_name": "Python 3",
   "language": "python",
   "name": "python3"
  },
  "language_info": {
   "codemirror_mode": {
    "name": "ipython",
    "version": 3
   },
   "file_extension": ".py",
   "mimetype": "text/x-python",
   "name": "python",
   "nbconvert_exporter": "python",
   "pygments_lexer": "ipython3",
   "version": "3.11.9"
  }
 },
 "nbformat": 4,
 "nbformat_minor": 2
}
